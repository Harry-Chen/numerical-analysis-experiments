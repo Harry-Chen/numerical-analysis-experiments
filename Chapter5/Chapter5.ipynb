{
 "cells": [
  {
   "cell_type": "markdown",
   "metadata": {},
   "source": [
    "# 数值分析 实验五\n",
    "\n",
    "计63 陈晟祺 2016010981"
   ]
  },
  {
   "cell_type": "markdown",
   "metadata": {},
   "source": [
    "## 上机题1\n",
    "\n",
    "### 实验概述\n",
    "\n",
    "本实验要求用幂法求矩阵模最大的特征值 $\\lambda_1$ 和其对应的特征向量 $\\mathbf{x}_1$，并控制迭代前后误差小于 $10^{-5}$。\n",
    "\n",
    "### 实验过程\n",
    "\n",
    "幂法的实现比较简单，只需按照算法5.1描述的规则进行迭代即可。"
   ]
  },
  {
   "cell_type": "code",
   "execution_count": 1,
   "metadata": {},
   "outputs": [],
   "source": [
    "import numpy as np\n",
    "\n",
    "def power_method(A):\n",
    "    n = A.shape[0]\n",
    "    u = np.random.normal(0.0, 1.0, (n,1))\n",
    "    l = 0\n",
    "    # iteration for lambda\n",
    "    while True:\n",
    "        v = np.dot(A, u)\n",
    "        new_l = v[np.argmax(np.abs(v))] # approximation of lambda_1\n",
    "        u = v / new_l\n",
    "        if np.abs(new_l - l) < 1e-5:\n",
    "            return new_l[0], u\n",
    "        l = new_l"
   ]
  },
  {
   "cell_type": "markdown",
   "metadata": {},
   "source": [
    "使用幂法分别对所给的两个矩阵进行迭代："
   ]
  },
  {
   "cell_type": "code",
   "execution_count": 2,
   "metadata": {},
   "outputs": [
    {
     "name": "stdout",
     "output_type": "stream",
     "text": [
      "A has main eigenvalue 12.25432 with eigenvector ['-0.67402', '1.00000', '-0.88956']\n",
      "B has main eigenvalue 98.52170 with eigenvector ['-0.60397', '1.00000', '-0.25114', '0.14895']\n"
     ]
    }
   ],
   "source": [
    "A = np.array([[5, -4, 1], [-4, 6, -4], [1, -4, 7]])\n",
    "B = np.array([[25, -41, 10, -6], [-41, 68, -17, 10], [10, -17, 5, -3], [-6, 10, -3, 2]])\n",
    "\n",
    "l_a, x_a = power_method(A)\n",
    "l_b, x_b = power_method(B)\n",
    "\n",
    "print('A has main eigenvalue {:.5f} with eigenvector {}'.format(l_a, list(map('{:.5f}'.format,x_a.flatten()))))\n",
    "print('B has main eigenvalue {:.5f} with eigenvector {}'.format(l_b, list(map('{:.5f}'.format,x_b.flatten()))))"
   ]
  },
  {
   "cell_type": "markdown",
   "metadata": {},
   "source": [
    "使用 numpy 内置函数求值进行比较："
   ]
  },
  {
   "cell_type": "code",
   "execution_count": 3,
   "metadata": {},
   "outputs": [
    {
     "name": "stdout",
     "output_type": "stream",
     "text": [
      "A has main eigenvalue 12.25432 with eigenvector ['-0.67402', '1.00000', '-0.88956']\n",
      "B has main eigenvalue 98.52170 with eigenvector ['-0.60397', '1.00000', '-0.25114', '0.14895']\n"
     ]
    }
   ],
   "source": [
    "def np_method(A, ref_eig_vec):\n",
    "    w_a, v_a = np.linalg.eig(A)\n",
    "    a_main_pos = np.argmax(np.abs(w_a)) # find main eigenvalue\n",
    "    l_a, x_a = w_a[a_main_pos], v_a[:,a_main_pos]\n",
    "    return l_a, x_a / x_a[np.where(ref_eig_vec == 1.)[0]] # do the same normalize as power method do\n",
    "\n",
    "l_a_n, x_a_n = np_method(A, x_a)\n",
    "l_b_n, x_b_n = np_method(B, x_b)\n",
    "\n",
    "print('A has main eigenvalue {:.5f} with eigenvector {}'.format(l_a_n, list(map('{:.5f}'.format,x_a_n.flatten()))))\n",
    "print('B has main eigenvalue {:.5f} with eigenvector {}'.format(l_b_n, list(map('{:.5f}'.format,x_b_n.flatten()))))"
   ]
  },
  {
   "cell_type": "markdown",
   "metadata": {},
   "source": [
    "求得的主特征值小数点后五位都是一致的，并且当采用同样的归一化系数时，特征向量也是相同的。可见幂法的实现是正确的。"
   ]
  },
  {
   "cell_type": "markdown",
   "metadata": {},
   "source": [
    "## 上机题 3\n",
    "\n",
    "### 实验概述\n",
    "\n",
    "本实验要求实现矩阵的 QR 分解，并使用基本的 QR 算法尝试计算给定矩阵的所有特征值，观察算法的收敛过程并给出解释。\n",
    "\n",
    "### 实验过程\n",
    "\n",
    "首先使用 Householder 旋转实现矩阵的 QR 分解："
   ]
  },
  {
   "cell_type": "code",
   "execution_count": 4,
   "metadata": {},
   "outputs": [],
   "source": [
    "def householder(x):\n",
    "    if (x[0] >= 0):\n",
    "        sign = 1\n",
    "    else:\n",
    "        sign = -1\n",
    "    sigma = sign * np.linalg.norm(x, ord=2)\n",
    "    if np.abs(sigma - x[0]) < 1e-10:\n",
    "        return None\n",
    "    h = x.copy()\n",
    "    h[0] += sigma\n",
    "    return h\n",
    "    \n",
    "\n",
    "def QR(A):\n",
    "    n = A.shape[0]\n",
    "    R = A.copy()\n",
    "    Q = np.identity(n)\n",
    "    for i in range(n - 1):\n",
    "        # get sub-matrix\n",
    "        R_1 = R[i:,i:]\n",
    "        # householder vector v and w\n",
    "        v = householder(R_1[:,0])\n",
    "        if v is None: # go to next submatrix\n",
    "            continue\n",
    "        w = v / np.linalg.norm(v, ord=2)\n",
    "        # caculate H and transform Q\n",
    "        H = np.identity(n)\n",
    "        H[i:,i:] = np.identity(n - i) - 2 * np.dot(w, w.transpose())\n",
    "        Q = np.matmul(Q, H)\n",
    "        # use v to calculate transformed R\n",
    "        beta = np.dot(v.transpose(), v)[0,0]\n",
    "        for j in range(n - i):\n",
    "            gamma = np.dot(v.transpose(), R_1[:,j])[0,0]\n",
    "            R_1[:,j] -= 2 * gamma / beta * v\n",
    "    return Q, R"
   ]
  },
  {
   "cell_type": "markdown",
   "metadata": {},
   "source": [
    "使用 numpy 内置的 QR 分解可以测试算法的正确性："
   ]
  },
  {
   "cell_type": "code",
   "execution_count": 5,
   "metadata": {},
   "outputs": [
    {
     "name": "stdout",
     "output_type": "stream",
     "text": [
      "Total Error: 9.992e-16, Q Error: 2.220e-16，R Error: 8.882e-16\n"
     ]
    }
   ],
   "source": [
    "A = np.matrix([[1., 2], [3, 4]])\n",
    "Q, R = QR(A)\n",
    "Q_n, R_n = np.linalg.qr(A)\n",
    "print('Total Error: {:.3e}, Q Error: {:.3e}，R Error: {:.3e}'.format(np.max(np.abs(Q * R - A)), np.max(np.abs(Q - Q_n)), np.max(np.abs(R - R_n))))"
   ]
  },
  {
   "cell_type": "markdown",
   "metadata": {},
   "source": [
    "接下来可以实现基本的 QR 算法求特征值。在判定拟对角阵和求解拟对角阵的特征值时，都需要对对角块为 2 * 2 矩阵的情况进行特殊处理。"
   ]
  },
  {
   "cell_type": "code",
   "execution_count": 6,
   "metadata": {},
   "outputs": [],
   "source": [
    "eps = 1e-5\n",
    "\n",
    "# check if the matrix is quasi-diagonal\n",
    "def check_quasi_diag(A):\n",
    "    n = A.shape[0]\n",
    "    cond = A < eps\n",
    "    i = 0\n",
    "    while i < n:\n",
    "        cond[i, i] = True\n",
    "        if i < n - 1 and cond[i + 1,i] == False:\n",
    "            # 2d-matrix\n",
    "            cond[i + 1, i] = True\n",
    "            i += 2\n",
    "        else:\n",
    "            i += 1\n",
    "    for i in range(n):\n",
    "        for j in range(i):\n",
    "            if not cond[i, j]:\n",
    "                return False\n",
    "    return True\n",
    "\n",
    "# find eigenvalues by each block\n",
    "def derive_eigen(A):\n",
    "    n = A.shape[0]\n",
    "    eigen = np.zeros(n,dtype=np.complex128)\n",
    "    i = 0\n",
    "    while i < n:\n",
    "        if i < n - 1 and A[i + 1, i] > eps:\n",
    "            # 2d-matrix\n",
    "            eigen[i : i + 2] = np.linalg.eig(A[i:i+2,i:i+2])[0]\n",
    "            i += 2\n",
    "        else:\n",
    "            # 1d-matrix\n",
    "            eigen[i] = A[i, i]\n",
    "            i += 1\n",
    "    return np.round(eigen, decimals=4)\n",
    "\n",
    "# basic QR algorithm\n",
    "def QR_eigen(A):\n",
    "    n = A.shape[0]\n",
    "    step = 0\n",
    "    while not check_quasi_diag(A):\n",
    "        # iterate\n",
    "        Q, R = np.linalg.qr(A)\n",
    "        A_new = R * Q\n",
    "        step += 1\n",
    "        # iteration converged\n",
    "        if np.max(np.abs(A_new - A)) < 1e-8:\n",
    "            print('QR algorithm converged to non-quasi-diagonal matrix after {} steps, failed to find eigenvalues'.format(step))\n",
    "            return None\n",
    "        A = A_new\n",
    "    print('QR algorithm found eigenvalues of A after {} steps'.format(step))\n",
    "    return derive_eigen(A)"
   ]
  },
  {
   "cell_type": "markdown",
   "metadata": {},
   "source": [
    "对题中给出的矩阵使用 QR 算法："
   ]
  },
  {
   "cell_type": "code",
   "execution_count": 7,
   "metadata": {},
   "outputs": [
    {
     "name": "stdout",
     "output_type": "stream",
     "text": [
      "QR algorithm converged to non-quasi-diagonal matrix after 1 steps, failed to find eigenvalues\n"
     ]
    }
   ],
   "source": [
    "A = np.matrix([[0.5, 0.5, 0.5, 0.5], [0.5, 0.5, -0.5 , -0.5], [0.5, -0.5, 0.5, -0.5], [0.5, -0.5, -0.5, 0.5]])\n",
    "l_A = QR_eigen(A)"
   ]
  },
  {
   "cell_type": "markdown",
   "metadata": {},
   "source": [
    "算法在进行了一步迭代后就失败了，结合代码中的判定条件，可知一步迭代后 A 没有发生变化，如下所示："
   ]
  },
  {
   "cell_type": "code",
   "execution_count": 8,
   "metadata": {},
   "outputs": [
    {
     "data": {
      "text/plain": [
       "matrix([[ 0.5,  0.5,  0.5,  0.5],\n",
       "        [ 0.5,  0.5, -0.5, -0.5],\n",
       "        [ 0.5, -0.5,  0.5, -0.5],\n",
       "        [ 0.5, -0.5, -0.5,  0.5]])"
      ]
     },
     "execution_count": 8,
     "metadata": {},
     "output_type": "execute_result"
    }
   ],
   "source": [
    "Q, R = QR(A)\n",
    "R * Q"
   ]
  },
  {
   "cell_type": "markdown",
   "metadata": {},
   "source": [
    "这是由于 $\\mathbf{A}$ 事实上本身是一个正交矩阵，因此 QR 分解得到的 $\\mathbf{R}$ 是恒等的（或者只差一个符号），故无法使用基本的 QR 算法进行迭代寻找特征值。"
   ]
  },
  {
   "cell_type": "markdown",
   "metadata": {},
   "source": [
    "## 上机题 4\n",
    "\n",
    "### 实验概述\n",
    "\n",
    "本题要求用带原点位移的 QR 算法计算第三题中矩阵的特征值，并观察收敛结果，与第三题进行比较。\n",
    "\n",
    "### 实验过程\n",
    "\n",
    "实现带原点位移的 QR 算法，并打印每次迭代过程。当每次迭代出一个特征值后，都检查矩阵的（拟）对角性；如果成立则立刻停止迭代。"
   ]
  },
  {
   "cell_type": "code",
   "execution_count": 9,
   "metadata": {},
   "outputs": [],
   "source": [
    "def print_matrix(A):\n",
    "    n = A.shape[0]\n",
    "    for i in range(n):\n",
    "        print('\\t'.join(map(lambda x: '{: .4f}'.format(x), A[i,:].tolist()[0])))\n",
    "            \n",
    "\n",
    "def QR_shift_eigen(A, n=None):\n",
    "    if n is None: # initial calling\n",
    "        n = A.shape[0]\n",
    "        A = A.copy()\n",
    "        print('Original matrix:')\n",
    "        print_matrix(A)\n",
    "    if n <= 1 or check_quasi_diag(A):\n",
    "        print('Matrix is already quasi-diagonal, end iteration')\n",
    "        return\n",
    "    # find the last diagonal element of size n\n",
    "    count = 0\n",
    "    while np.abs(A[n - 1,n - 2]) > eps or np.abs(A[n - 1,n - 1]) < eps:\n",
    "        old_A = A.copy()\n",
    "        s = A[n - 1, n - 1]\n",
    "        Q, R = QR(A[:n,:n] - s * np.identity(n))\n",
    "        A[:n,:n] = R * Q + s * np.identity(n)\n",
    "        count += 1\n",
    "        print('After iteration {}:'.format(count))\n",
    "        print_matrix(A)\n",
    "        if np.max(np.abs(A - old_A)) < eps:\n",
    "            raise Exception('Iteration converged but no more eigenvalue is found')\n",
    "    print('Shifted QR took {} steps to find eigenvalue {:.4f} of A'.format(count, A[n - 1,n - 1]))\n",
    "    QR_shift_eigen(A, n - 1)\n",
    "    return derive_eigen(A)"
   ]
  },
  {
   "cell_type": "code",
   "execution_count": 10,
   "metadata": {},
   "outputs": [
    {
     "name": "stdout",
     "output_type": "stream",
     "text": [
      "Original matrix:\n",
      " 0.5000\t 0.5000\t 0.5000\t 0.5000\n",
      " 0.5000\t 0.5000\t-0.5000\t-0.5000\n",
      " 0.5000\t-0.5000\t 0.5000\t-0.5000\n",
      " 0.5000\t-0.5000\t-0.5000\t 0.5000\n",
      "After iteration 1:\n",
      "-0.5000\t 0.6708\t-0.4392\t-0.3273\n",
      " 0.6708\t 0.7000\t 0.1964\t 0.1464\n",
      "-0.4392\t 0.1964\t 0.8714\t-0.0958\n",
      "-0.3273\t 0.1464\t-0.0958\t 0.9286\n",
      "After iteration 2:\n",
      "-0.9991\t-0.0349\t 0.0202\t-0.0143\n",
      "-0.0349\t 0.9994\t 0.0004\t-0.0002\n",
      " 0.0202\t 0.0004\t 0.9998\t 0.0001\n",
      "-0.0143\t-0.0002\t 0.0001\t 0.9999\n",
      "After iteration 3:\n",
      "-1.0000\t-0.0000\t 0.0000\t-0.0000\n",
      "-0.0000\t 1.0000\t 0.0000\t-0.0000\n",
      " 0.0000\t 0.0000\t 1.0000\t 0.0000\n",
      "-0.0000\t-0.0000\t 0.0000\t 1.0000\n",
      "Shifted QR took 3 steps to find eigenvalue 1.0000 of A\n",
      "Matrix is already quasi-diagonal, end iteration\n"
     ]
    }
   ],
   "source": [
    "a_l_shift = QR_shift_eigen(A)"
   ]
  },
  {
   "cell_type": "markdown",
   "metadata": {},
   "source": [
    "可以看到，带原点位移的 QR 算法解决了简单 QR 算法处理正交矩阵时的问题（因为位移破坏了正交性），仅在三个迭代后就得到了第一个特征值。并且此时矩阵刚好已成为对角矩阵，故所有特征值都已经找到："
   ]
  },
  {
   "cell_type": "code",
   "execution_count": 11,
   "metadata": {},
   "outputs": [
    {
     "data": {
      "text/plain": [
       "array([-1.+0.j,  1.+0.j,  1.+0.j,  1.+0.j])"
      ]
     },
     "execution_count": 11,
     "metadata": {},
     "output_type": "execute_result"
    }
   ],
   "source": [
    "a_l_shift"
   ]
  },
  {
   "cell_type": "markdown",
   "metadata": {},
   "source": [
    "我们还可以使用更多的正交矩阵进行测试，比如下列矩阵有一对共轭复特征值："
   ]
  },
  {
   "cell_type": "code",
   "execution_count": 12,
   "metadata": {},
   "outputs": [
    {
     "name": "stdout",
     "output_type": "stream",
     "text": [
      "Original matrix:\n",
      " 0.0000\t-0.8000\t-0.6000\n",
      " 0.8000\t-0.3600\t 0.4800\n",
      " 0.6000\t 0.4800\t-0.6400\n",
      "After iteration 1:\n",
      " 0.0000\t-0.9751\t-0.2218\n",
      " 0.9751\t-0.0492\t 0.2162\n",
      " 0.2218\t 0.2162\t-0.9508\n",
      "After iteration 2:\n",
      " 0.0000\t-1.0000\t-0.0081\n",
      " 1.0000\t-0.0001\t 0.0081\n",
      " 0.0081\t 0.0081\t-0.9999\n",
      "After iteration 3:\n",
      "-0.0000\t-1.0000\t-0.0000\n",
      " 1.0000\t-0.0000\t 0.0000\n",
      " 0.0000\t 0.0000\t-1.0000\n",
      "Shifted QR took 3 steps to find eigenvalue -1.0000 of A\n",
      "Matrix is already quasi-diagonal, end iteration\n"
     ]
    },
    {
     "data": {
      "text/plain": [
       "array([-0.+1.j, -0.-1.j, -1.+0.j])"
      ]
     },
     "execution_count": 12,
     "metadata": {},
     "output_type": "execute_result"
    }
   ],
   "source": [
    "A = np.matrix([[0, -0.8, -0.6], [0.8, -0.36, 0.48], [0.6, 0.48, -0.64]])\n",
    "QR_shift_eigen(A)"
   ]
  },
  {
   "cell_type": "markdown",
   "metadata": {},
   "source": [
    "可以看到带原点位移的 QR 算法也顺利地将其迭代成为拟对角矩阵，并且找到了所有的特征值。"
   ]
  },
  {
   "cell_type": "markdown",
   "metadata": {},
   "source": [
    "但是书中给出的单位移策略也并非通用的，例如对于下列矩阵，这一策略就无法求得特征值："
   ]
  },
  {
   "cell_type": "code",
   "execution_count": 13,
   "metadata": {},
   "outputs": [
    {
     "name": "stdout",
     "output_type": "stream",
     "text": [
      "Original matrix:\n",
      " 0.0000\t 0.0000\t 0.0000\t 1.0000\n",
      " 0.0000\t 0.0000\t 1.0000\t 0.0000\n",
      " 0.0000\t 1.0000\t 0.0000\t 0.0000\n",
      " 1.0000\t 0.0000\t 0.0000\t 0.0000\n",
      "After iteration 1:\n",
      "-0.0000\t 0.0000\t 0.0000\t 1.0000\n",
      " 0.0000\t-0.0000\t 1.0000\t 0.0000\n",
      " 0.0000\t 1.0000\t-0.0000\t 0.0000\n",
      " 1.0000\t 0.0000\t 0.0000\t-0.0000\n",
      "Iteration converged but no more eigenvalue is found\n"
     ]
    }
   ],
   "source": [
    "A = np.matrix([[0., 0, 0, 1], [0, 0, 1, 0], [0, 1, 0, 0], [1, 0, 0, 0]])\n",
    "try:\n",
    "    QR_shift_eigen(A)\n",
    "except Exception as e:\n",
    "    print(e)"
   ]
  },
  {
   "cell_type": "markdown",
   "metadata": {},
   "source": [
    "## 实验结论\n",
    "\n",
    "本实验中，我实现了求矩阵特征值的三种方法。幂法较为简单，可以快速求出绝对值最大的特征值。简单 QR 算法和带简单原点位移策略的 QR 算法都能求所有特征值，且后者的适用范围更广。事实上，如果使用更佳的策略（如双位移），带原点位移的 QR 算法总是能够收敛到拟三角阵，从而能方便地求出特征值。"
   ]
  }
 ],
 "metadata": {
  "kernelspec": {
   "display_name": "Python 3",
   "language": "python",
   "name": "python3"
  },
  "language_info": {
   "codemirror_mode": {
    "name": "ipython",
    "version": 3
   },
   "file_extension": ".py",
   "mimetype": "text/x-python",
   "name": "python",
   "nbconvert_exporter": "python",
   "pygments_lexer": "ipython3",
   "version": "3.6.7"
  }
 },
 "nbformat": 4,
 "nbformat_minor": 2
}
